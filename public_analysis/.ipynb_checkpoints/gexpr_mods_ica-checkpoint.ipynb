{
 "cells": [
  {
   "cell_type": "markdown",
   "metadata": {},
   "source": [
    "## Identifying gene expression modules using ICA matrix decompositon. \n",
    "\n",
    "### Motivation \n",
    "\n",
    "The typical analysis performed on gene expression datasets is differential expression (DE) analysis, where some generalized linear model (implemented in packages like DESeq2, limma, edgeR) is used to determine the association between the expression of one gene with a phenotype of interest. Accordingly, genes (in part representative of their protein products) that function in units, such as co-expressed or co-regulated genes, may not be uncovered. These gene units, or modules, have been hypothesized to characterize complex disease processes accurately, and importantly, they do so in the context of functionally related genes (Chaussabel and Baldwin 2014; Saelens et al. 2018). Prior benchmarking studies concluded that ICA-derived modules outperformed those obtained by other methods when comparing inferred modules to known regulatory modules in E. coli, S. cerevisiae, and humans (Rotival et al. 2011; Saelens et al. 2018).\n",
    "\n",
    "In the context of gene expression analysis, [ICA](https://en.wikipedia.org/wiki/Independent_component_analysis) aims to uncover underlying biological processes (e.g., mechanisms mediating transcriptional regulation, signaling cascades, immune responses, etc.) represented by gene modules that yield the observed gene expression events. In other words, the observed gene expression matrix can be considered a net sum of unobserved or latent biological processes, which is inferred by the ICA matrix decomposition. Briefly, the input to the FastICA algorithm is a p × n gene expression matrix (where p represents genes and n represents patients/observations). A p × k “Signal” matrix is among the decomposed output matrix products. The k columns represent a set of statistically-independent “components” (or random variables) describing the activation (or contribution) of the individual p genes in the various components. Below is a general formula for ICA decomposition. \n",
    "\n",
    "$$\n",
    "X_{ij} = \\sum_{k=1}^{K} S_{ik} A_{kj} + \\epsilon_{ij}\n",
    "$$\n",
    "\n",
    "There are two notable advantages to this technique. Firstly, ICA-derived modules enable genes to participate in more than one module, unlike clustering and correlation network approaches which divide genes into just one cluster/module based on a set distance cut-off, which is biologically implausible. Secondly, the ICA-derived modules are statistically independent by construction (or as independent as possible), which allows the components to map to distinct biological processes influencing gene expression. These components are reminiscent of principal components obtained using the related method PCA, although PCA components have no requirement to be statistically independent and thus fail to map to independent biological processes. \n",
    "\n",
    "<img src=\"cocktail_party_img.jpg\" width=300 height=200 />\n",
    "\n",
    "As an aside, a notable application of ICA is to the [\"cocktail party problem\"](https://en.wikipedia.org/wiki/Cocktail_party_effect). Here ICA is used to parse overlapping voices into seperate signals, each describing the voices of a single individual at the cocktail party.  \n",
    "\n",
    "Here I aimed to 1) identify modules using ICA, and 2) determine which module's expression pattern is associated with sepsis patient mortality. Why is this important? It was recently reported that there are approximately 11m deaths due to sepsis annually (Rudd et al. 2020), where patients succumb despite intensive care aimed to prevent organ dysfunction and failure (Sakr et al. 2018).\n"
   ]
  },
  {
   "cell_type": "markdown",
   "metadata": {},
   "source": [
    "### Discovery Cohort\n",
    "To identify gene expression modules associated with eventual mortality, I performed the ICA method using the gene expression profiles of severely-ill ICU patients. The ICU patients were recruited from a hospital in Toronto, Canada, within the first day of admission (except for two patients recruited from the hospital ward). The patients displayed severe symptomatology (7.2 ± 0.55 organ dysfunction scores 24H post sampling) and high mortality (24.4% [20/82]). \n",
    "\n",
    "OK, lets get started. Here I will outline all the R code required to replicate this in another gene expression study.\n",
    "\n",
    "### Perform ICA"
   ]
  },
  {
   "cell_type": "code",
   "execution_count": 1,
   "metadata": {
    "scrolled": true
   },
   "outputs": [],
   "source": [
    "# Load required packages\n",
    "suppressPackageStartupMessages({\n",
    "    library(tidyverse)\n",
    "    library(magrittr)\n",
    "    library(fastICA) # Package with the fastICA algorithm \n",
    "    library(functionjunction) # My package for data analysis \n",
    "    library(enrichR)\n",
    "})\n",
    "\n",
    "# Read in helper functions \n",
    "source(\"./public_analysis_helper.R\")"
   ]
  },
  {
   "cell_type": "code",
   "execution_count": 2,
   "metadata": {},
   "outputs": [
    {
     "data": {
      "text/html": [
       "TRUE"
      ],
      "text/latex": [
       "TRUE"
      ],
      "text/markdown": [
       "TRUE"
      ],
      "text/plain": [
       "[1] TRUE"
      ]
     },
     "metadata": {},
     "output_type": "display_data"
    }
   ],
   "source": [
    "# Read in data - this data was recently published in EBioMedicine and is publicly available at NCBI Gene Expression Omnibus (GSE185263).\n",
    "icu_dat <- read_rds(\"../create_tr_te/tr_te_dat.RDS\")[[\"icu\"]]\n",
    "expr  <- icu_dat$expr\n",
    "meta <- icu_dat$meta\n",
    "all(colnames(expr)[-1] == meta$sample_identifier)\n",
    "\n",
    "# Read in gene names\n",
    "gene_names <- read_rds(\"../../../sepsis_rnaseq_all/final/counts_meta_10_read_filt_261120.RDS\")$universe"
   ]
  },
  {
   "cell_type": "code",
   "execution_count": 3,
   "metadata": {},
   "outputs": [
    {
     "data": {
      "text/html": [
       "<style>\n",
       ".list-inline {list-style: none; margin:0; padding: 0}\n",
       ".list-inline>li {display: inline-block}\n",
       ".list-inline>li:not(:last-child)::after {content: \"\\00b7\"; padding: 0 .5ex}\n",
       "</style>\n",
       "<ol class=list-inline><li>12238</li><li>83</li></ol>\n"
      ],
      "text/latex": [
       "\\begin{enumerate*}\n",
       "\\item 12238\n",
       "\\item 83\n",
       "\\end{enumerate*}\n"
      ],
      "text/markdown": [
       "1. 12238\n",
       "2. 83\n",
       "\n",
       "\n"
      ],
      "text/plain": [
       "[1] 12238    83"
      ]
     },
     "metadata": {},
     "output_type": "display_data"
    },
    {
     "data": {
      "text/html": [
       "<table class=\"dataframe\">\n",
       "<caption>A data.frame: 5 × 5</caption>\n",
       "<thead>\n",
       "\t<tr><th></th><th scope=col>ensembl_gene_id</th><th scope=col>sepcv001T1</th><th scope=col>sepcv002T0</th><th scope=col>sepcv003T0</th><th scope=col>sepcv004T0</th></tr>\n",
       "\t<tr><th></th><th scope=col>&lt;chr&gt;</th><th scope=col>&lt;dbl&gt;</th><th scope=col>&lt;dbl&gt;</th><th scope=col>&lt;dbl&gt;</th><th scope=col>&lt;dbl&gt;</th></tr>\n",
       "</thead>\n",
       "<tbody>\n",
       "\t<tr><th scope=row>1</th><td>ENSG00000000419</td><td>  706</td><td>  216</td><td>  384</td><td>  495</td></tr>\n",
       "\t<tr><th scope=row>2</th><td>ENSG00000000457</td><td>  621</td><td>  181</td><td>  304</td><td>  504</td></tr>\n",
       "\t<tr><th scope=row>3</th><td>ENSG00000000460</td><td>  100</td><td>   18</td><td>   74</td><td>   78</td></tr>\n",
       "\t<tr><th scope=row>4</th><td>ENSG00000000938</td><td>14387</td><td>10431</td><td>18687</td><td>21591</td></tr>\n",
       "\t<tr><th scope=row>5</th><td>ENSG00000000971</td><td>   61</td><td>   15</td><td>   11</td><td>   16</td></tr>\n",
       "</tbody>\n",
       "</table>\n"
      ],
      "text/latex": [
       "A data.frame: 5 × 5\n",
       "\\begin{tabular}{r|lllll}\n",
       "  & ensembl\\_gene\\_id & sepcv001T1 & sepcv002T0 & sepcv003T0 & sepcv004T0\\\\\n",
       "  & <chr> & <dbl> & <dbl> & <dbl> & <dbl>\\\\\n",
       "\\hline\n",
       "\t1 & ENSG00000000419 &   706 &   216 &   384 &   495\\\\\n",
       "\t2 & ENSG00000000457 &   621 &   181 &   304 &   504\\\\\n",
       "\t3 & ENSG00000000460 &   100 &    18 &    74 &    78\\\\\n",
       "\t4 & ENSG00000000938 & 14387 & 10431 & 18687 & 21591\\\\\n",
       "\t5 & ENSG00000000971 &    61 &    15 &    11 &    16\\\\\n",
       "\\end{tabular}\n"
      ],
      "text/markdown": [
       "\n",
       "A data.frame: 5 × 5\n",
       "\n",
       "| <!--/--> | ensembl_gene_id &lt;chr&gt; | sepcv001T1 &lt;dbl&gt; | sepcv002T0 &lt;dbl&gt; | sepcv003T0 &lt;dbl&gt; | sepcv004T0 &lt;dbl&gt; |\n",
       "|---|---|---|---|---|---|\n",
       "| 1 | ENSG00000000419 |   706 |   216 |   384 |   495 |\n",
       "| 2 | ENSG00000000457 |   621 |   181 |   304 |   504 |\n",
       "| 3 | ENSG00000000460 |   100 |    18 |    74 |    78 |\n",
       "| 4 | ENSG00000000938 | 14387 | 10431 | 18687 | 21591 |\n",
       "| 5 | ENSG00000000971 |    61 |    15 |    11 |    16 |\n",
       "\n"
      ],
      "text/plain": [
       "  ensembl_gene_id sepcv001T1 sepcv002T0 sepcv003T0 sepcv004T0\n",
       "1 ENSG00000000419   706        216        384        495     \n",
       "2 ENSG00000000457   621        181        304        504     \n",
       "3 ENSG00000000460   100         18         74         78     \n",
       "4 ENSG00000000938 14387      10431      18687      21591     \n",
       "5 ENSG00000000971    61         15         11         16     "
      ]
     },
     "metadata": {},
     "output_type": "display_data"
    }
   ],
   "source": [
    "# Let get some basic information about the gene expression data we are working with. \n",
    "dim(expr)\n",
    "functionjunction::first_five(expr)"
   ]
  },
  {
   "cell_type": "code",
   "execution_count": 4,
   "metadata": {},
   "outputs": [
    {
     "name": "stderr",
     "output_type": "stream",
     "text": [
      "converting counts to integer mode\n",
      "\n"
     ]
    }
   ],
   "source": [
    "# RNA Seq data must be normalized prior to analysis due to heteroskedasticity of count data (variance depending on mean count)\n",
    "# My go to is the variance stabilizing transformation by DESeq2. Other options exist, like TPM, FPKM, RPKM, rlog, etc. \n",
    "expr_vst <- expr %>% \n",
    "  column_to_rownames(var = \"ensembl_gene_id\") %>% \n",
    "  as.matrix() %>% \n",
    "  DESeq2::varianceStabilizingTransformation() "
   ]
  },
  {
   "cell_type": "code",
   "execution_count": 5,
   "metadata": {},
   "outputs": [],
   "source": [
    "# Write the function to perform ICA \n",
    "perform_ica <- function(expr_mat, kurtosis_keep = 10, qval_filt = 0.001, seed = 1) {\n",
    "  \n",
    "  # Determine the number of components.\n",
    "  # As a reasonable guess, I will find out how many PCs explain 90% of variance in the expression matrix?\n",
    "  # I will use this number to   \n",
    "  comp_no <- expr_mat %>% \n",
    "    t() %>% \n",
    "    as.data.frame() %>% \n",
    "    remove_zero_var_cols() %>% \n",
    "    perform_pca() %>% \n",
    "    pluck(\"pov\") %>% \n",
    "    explain_95(perc = 95)\n",
    "  cat(paste0(\"Performing ICA with \", comp_no, \" components.\\n\"))\n",
    "  \n",
    "  # Perform ICA\n",
    "  set.seed(seed)\n",
    "  ICA <- fastICA::fastICA(expr_mat, n.comp = comp_no)\n",
    "  cat(\"ICA Done.\\n\")\n",
    "  \n",
    "  # Get the S matrix and rename the components as Modules\n",
    "  ICA_S <- ICA$S %>% \n",
    "    as.data.frame() %>% \n",
    "    set_names(paste0(\"Mod_\",   str_pad(1:ncol(.), width = 3, side = \"left\", pad = \"0\")    ))\n",
    "\n",
    "  # Keep certain components based on kurtosis. Components with a high degree of kurtosis indicates the distribution is skewed (deviates from normality), suggesting a significant   \n",
    "  comp_keep <- ICA_S %>% \n",
    "    map_dbl(~e1071::kurtosis(.x)) %>%  \n",
    "    keep(~.x >= kurtosis_keep) %>% \n",
    "    names()\n",
    "  ICA_S_filt <- ICA_S[,comp_keep]\n",
    "  \n",
    "  # The ICA components can be reduced to a set of module genes that strongly influence the component distribution (i.e., the genes at the extremes of distribution), as assessed by false discovery rate (FDR) estimates (Strimmer 2008; FDR<10-3).\n",
    "  ICA_mods <- ICA_S_filt %>% \n",
    "    map(~fdrtool::fdrtool(.x, plot = FALSE, verbose = FALSE))\n",
    "  \n",
    "  # Filter genes in each componennt \n",
    "  ICA_mods_filt <- list()\n",
    "  for (comp in names(ICA_mods)) {\n",
    "    mod_df <- data.frame(qval = ICA_mods[[comp]][[\"qval\"]], ensembl_gene_id = rownames(ICA_S))\n",
    "    mod_df <- mod_df %>% \n",
    "      dplyr::filter(qval <= qval_filt) %>% \n",
    "      left_join(gene_names, by = \"ensembl_gene_id\")\n",
    "    ICA_mods_filt[[comp]] <- mod_df\n",
    "  }\n",
    "  \n",
    "  return(list(ICA_S_filt = ICA_S_filt, ICA_mods_filt = ICA_mods_filt))\n",
    "}\n"
   ]
  },
  {
   "cell_type": "code",
   "execution_count": 6,
   "metadata": {},
   "outputs": [
    {
     "name": "stdout",
     "output_type": "stream",
     "text": [
      "PCA ---- DONE.\n",
      "Performing ICA with 56 components.\n",
      "ICA Done.\n"
     ]
    }
   ],
   "source": [
    "# Now run the ICA pipeline \n",
    "ICA_res <- perform_ica(\n",
    "    expr_mat = expr_vst, \n",
    "    kurtosis_keep = 10, \n",
    "    qval_filt = 0.001, \n",
    "    seed = 1\n",
    ")\n"
   ]
  },
  {
   "cell_type": "code",
   "execution_count": 7,
   "metadata": {},
   "outputs": [
    {
     "data": {
      "text/html": [
       "267.540540540541"
      ],
      "text/latex": [
       "267.540540540541"
      ],
      "text/markdown": [
       "267.540540540541"
      ],
      "text/plain": [
       "[1] 267.5405"
      ]
     },
     "metadata": {},
     "output_type": "display_data"
    },
    {
     "data": {
      "text/html": [
       "465"
      ],
      "text/latex": [
       "465"
      ],
      "text/markdown": [
       "465"
      ],
      "text/plain": [
       "[1] 465"
      ]
     },
     "metadata": {},
     "output_type": "display_data"
    },
    {
     "data": {
      "text/html": [
       "138"
      ],
      "text/latex": [
       "138"
      ],
      "text/markdown": [
       "138"
      ],
      "text/plain": [
       "[1] 138"
      ]
     },
     "metadata": {},
     "output_type": "display_data"
    }
   ],
   "source": [
    "# Get some module stats\n",
    "mod_stats <- ICA_res$ICA_mods_filt %>% \n",
    "    map(~nrow(.x))  %>% \n",
    "    flatten_int()\n",
    "\n",
    "mean(mod_stats)\n",
    "max(mod_stats)\n",
    "min(mod_stats)"
   ]
  },
  {
   "cell_type": "markdown",
   "metadata": {},
   "source": [
    "### Obtain Biological Functions for each Module\n",
    "\n",
    "Now that I have modules, I need to determine whether the gene modules participate in established pathways/hallmarks using over-representation analysis. "
   ]
  },
  {
   "cell_type": "code",
   "execution_count": 8,
   "metadata": {},
   "outputs": [],
   "source": [
    "# Here I will perform an over-representation analysis of MSigDB Hallmarks\n",
    "go_enrichment <- function(gene_list, p_val = 0.05, ID = \"hgnc_symbol\"){\n",
    "  \n",
    "  # Check if the gene list is empty\n",
    "  if(length(gene_list) == 0){\n",
    "    return(NULL)\n",
    "  }\n",
    "  \n",
    "  gene_list = na.omit(gene_list)\n",
    "  \n",
    "  # Set res to NULL\n",
    "  res <- NULL\n",
    "  \n",
    "  # Get results\n",
    "  tryCatch({\n",
    "    res <- quiet(enrichR::enrichr(genes = as.character(gene_list), \n",
    "                            databases = c(\"MSigDB_Hallmark_2020\")) \n",
    "    )\n",
    "  }, error = function(e){cat(\"ERROR :\", conditionMessage(e), \"\\n\")} )\n",
    "  \n",
    "  if (is.null(res)){\n",
    "    return(NULL)\n",
    "  } else {\n",
    "    res <- res %>% map(~dplyr::filter(.x, Adjusted.P.value <= p_val))\n",
    "    return(res)\n",
    "  }\n",
    "}\n"
   ]
  },
  {
   "cell_type": "code",
   "execution_count": 9,
   "metadata": {},
   "outputs": [],
   "source": [
    "# Perform mSigDB enrichment\n",
    "ICA_mods_filt_msigdb_enr <-  ICA_res$ICA_mods_filt %>%\n",
    "    map(~pull(.x, hgnc_symbol)) %>%\n",
    "    map(~go_enrichment(.x,  p_val = 0.05))"
   ]
  },
  {
   "cell_type": "markdown",
   "metadata": {},
   "source": [
    "### Summarize module expression into a single \"eigenmodule\" variable\n",
    "\n",
    "Now that I have modules, I need to associate their expression to a phenotype of interest (here, eventual mortality). To do this, I devised an “eigenmodule” to summarize module gene expression into a single variable. I am going to extract the first principal component of the module gene expression matrix. This approach was inspired by the WGCNA method, which upon identifying highly correlated sets of gene modules summarizes module gene expression in a fashion identical to the one implemented (Langfelder and Horvath 2008)."
   ]
  },
  {
   "cell_type": "code",
   "execution_count": 10,
   "metadata": {},
   "outputs": [],
   "source": [
    "get_mod_eigenvect <- function(ICA_mods, expr_mat) {\n",
    "  \n",
    "  eigenmodule <- ICA_mods$ICA_mods_filt %>%\n",
    "    purrr::discard(~nrow(.x) == 0) %>% \n",
    "    map(~as.matrix(expr_mat)[.x$ensembl_gene_id, ]) %>%\n",
    "    map(~t(.x) %>% perform_pca() %>% pluck(\"x\")) %>%\n",
    "    map(~dplyr::select(.x, one_of(\"sample_identifier\", \"PC1\")))\n",
    "  \n",
    "  return(eigenmodule)\n",
    "  \n",
    "}"
   ]
  },
  {
   "cell_type": "code",
   "execution_count": 11,
   "metadata": {},
   "outputs": [],
   "source": [
    "#### Get Eigenvectors\n",
    "ICA_mod_eigen <- quiet(get_mod_eigenvect(ICA_res, expr_vst))"
   ]
  },
  {
   "cell_type": "markdown",
   "metadata": {},
   "source": [
    "I will perform a multiple linear regression to estimate the association of eigenmodules to eventual mortality. Here the the response variable is the eigenmodule variable, and covariates included binarized eventual mortality, age, sex, and transformed cell proportions (using PCA). Age, sex, and cell proportions were included to control for their effects on gene expression."
   ]
  },
  {
   "cell_type": "code",
   "execution_count": 12,
   "metadata": {},
   "outputs": [],
   "source": [
    "#### Associate modules to clinical vars_of_int\n",
    "lm_clin_eig <- function(ICA_eig, meta_df, vars_of_int, nuisance_vars = NULL, deconv = NULL, incl_cell_props = FALSE) {\n",
    "  \n",
    "  # Check things are in the right order \n",
    "  right_order <- ICA_eig %>% \n",
    "    map(~all(.x$sample_identifier == meta_df$sample_identifier)) %>% \n",
    "    unlist() %>% \n",
    "    all()\n",
    "  \n",
    "  if (isFALSE(right_order)) {\n",
    "    return(c(\"Things are not in the right order\"))\n",
    "  }\n",
    "  \n",
    "  # Design formula \n",
    "  des = \"PC1 ~ \"\n",
    "  \n",
    "  # Include cell proportions  \n",
    "  if (incl_cell_props) { \n",
    "    \n",
    "    if (is.null(deconv)) {\n",
    "      stop()\n",
    "    }\n",
    "    \n",
    "    deconv_pca <- deconv %>% \n",
    "      rownames_to_column(var = \"sample_identifier\") %>% \n",
    "      filter(sample_identifier %in% meta_df$sample_identifier) %>% \n",
    "      remove_zero_var_cols() %>% \n",
    "      column_to_rownames(var = \"sample_identifier\") %>% \n",
    "      perform_pca() \n",
    "    \n",
    "    pcs_to_incl <- deconv_pca$pov %>% \n",
    "      explain_95(perc = 90)\n",
    "    cat(paste0(\"Cell Proportion PCs used: \", pcs_to_incl, \"\\n\"))\n",
    "    pcs_to_incl <- paste0(\"PC\", 1:pcs_to_incl)\n",
    "    \n",
    "    deconv_pca_x <- deconv_pca$x %>% \n",
    "      dplyr::select(one_of(\"sample_identifier\", pcs_to_incl)) %>% \n",
    "      dplyr::rename_at(vars(matches(\"PC\")), ~ paste0(\"CiSo_\", .))\n",
    "    \n",
    "    met <- meta_df %>% \n",
    "      left_join(deconv_pca_x,  by = \"sample_identifier\")\n",
    "    \n",
    "    #if (length(unique(met$sequencing_month_year)) > 1 ) {\n",
    "    #  paste0(des, \" sequencing_month_year + \") # Need to fix des = paste0() ...\n",
    "    #}\n",
    "    \n",
    "    des <- paste0(des, paste(c(paste0(\"CiSo_\",pcs_to_incl), nuisance_vars), collapse = \" + \"), \" + \")\n",
    "  }\n",
    "  \n",
    "  # Initiate loop - loop through variables, and then module\n",
    "  res <- list()\n",
    "  for (var in  vars_of_int) {\n",
    "    for (mod in names(ICA_eig)) {\n",
    "      # Create a new df with the var and eigenvector the module\n",
    "      lm_df <- ICA_eig[[mod]] %>% \n",
    "        left_join(met, by = \"sample_identifier\")\n",
    "      \n",
    "      # GLM - PC1 ~ var\n",
    "      res[[var]][[mod]] <- glm(formula = formula(paste0(des,  var)), data = lm_df ) %>% \n",
    "        broom::tidy()\n",
    "    }\n",
    "  }\n",
    "\n",
    "  return(list(res = res))\n",
    "} "
   ]
  },
  {
   "cell_type": "code",
   "execution_count": 13,
   "metadata": {},
   "outputs": [
    {
     "data": {
      "text/html": [
       "<table class=\"dataframe\">\n",
       "<caption>A data.frame: 5 × 5</caption>\n",
       "<thead>\n",
       "\t<tr><th></th><th scope=col>b_cell_naive</th><th scope=col>b_cell_memory</th><th scope=col>b_cell_plasma</th><th scope=col>t_cell_cd8</th><th scope=col>t_cell_cd4_naive</th></tr>\n",
       "\t<tr><th></th><th scope=col>&lt;dbl&gt;</th><th scope=col>&lt;dbl&gt;</th><th scope=col>&lt;dbl&gt;</th><th scope=col>&lt;dbl&gt;</th><th scope=col>&lt;dbl&gt;</th></tr>\n",
       "</thead>\n",
       "<tbody>\n",
       "\t<tr><th scope=row>sepcv001T1</th><td>0.01840058</td><td>0</td><td>0.034345181</td><td>0</td><td>0.02907987</td></tr>\n",
       "\t<tr><th scope=row>sepcv002T0</th><td>0.02491003</td><td>0</td><td>0.000000000</td><td>0</td><td>0.05978925</td></tr>\n",
       "\t<tr><th scope=row>sepcv003T0</th><td>0.05618700</td><td>0</td><td>0.010270206</td><td>0</td><td>0.09025636</td></tr>\n",
       "\t<tr><th scope=row>sepcv004T0</th><td>0.03509907</td><td>0</td><td>0.007838907</td><td>0</td><td>0.04149910</td></tr>\n",
       "\t<tr><th scope=row>sepcv005T0</th><td>0.03876297</td><td>0</td><td>0.000000000</td><td>0</td><td>0.07323216</td></tr>\n",
       "</tbody>\n",
       "</table>\n"
      ],
      "text/latex": [
       "A data.frame: 5 × 5\n",
       "\\begin{tabular}{r|lllll}\n",
       "  & b\\_cell\\_naive & b\\_cell\\_memory & b\\_cell\\_plasma & t\\_cell\\_cd8 & t\\_cell\\_cd4\\_naive\\\\\n",
       "  & <dbl> & <dbl> & <dbl> & <dbl> & <dbl>\\\\\n",
       "\\hline\n",
       "\tsepcv001T1 & 0.01840058 & 0 & 0.034345181 & 0 & 0.02907987\\\\\n",
       "\tsepcv002T0 & 0.02491003 & 0 & 0.000000000 & 0 & 0.05978925\\\\\n",
       "\tsepcv003T0 & 0.05618700 & 0 & 0.010270206 & 0 & 0.09025636\\\\\n",
       "\tsepcv004T0 & 0.03509907 & 0 & 0.007838907 & 0 & 0.04149910\\\\\n",
       "\tsepcv005T0 & 0.03876297 & 0 & 0.000000000 & 0 & 0.07323216\\\\\n",
       "\\end{tabular}\n"
      ],
      "text/markdown": [
       "\n",
       "A data.frame: 5 × 5\n",
       "\n",
       "| <!--/--> | b_cell_naive &lt;dbl&gt; | b_cell_memory &lt;dbl&gt; | b_cell_plasma &lt;dbl&gt; | t_cell_cd8 &lt;dbl&gt; | t_cell_cd4_naive &lt;dbl&gt; |\n",
       "|---|---|---|---|---|---|\n",
       "| sepcv001T1 | 0.01840058 | 0 | 0.034345181 | 0 | 0.02907987 |\n",
       "| sepcv002T0 | 0.02491003 | 0 | 0.000000000 | 0 | 0.05978925 |\n",
       "| sepcv003T0 | 0.05618700 | 0 | 0.010270206 | 0 | 0.09025636 |\n",
       "| sepcv004T0 | 0.03509907 | 0 | 0.007838907 | 0 | 0.04149910 |\n",
       "| sepcv005T0 | 0.03876297 | 0 | 0.000000000 | 0 | 0.07323216 |\n",
       "\n"
      ],
      "text/plain": [
       "           b_cell_naive b_cell_memory b_cell_plasma t_cell_cd8 t_cell_cd4_naive\n",
       "sepcv001T1 0.01840058   0             0.034345181   0          0.02907987      \n",
       "sepcv002T0 0.02491003   0             0.000000000   0          0.05978925      \n",
       "sepcv003T0 0.05618700   0             0.010270206   0          0.09025636      \n",
       "sepcv004T0 0.03509907   0             0.007838907   0          0.04149910      \n",
       "sepcv005T0 0.03876297   0             0.000000000   0          0.07323216      "
      ]
     },
     "metadata": {},
     "output_type": "display_data"
    },
    {
     "name": "stdout",
     "output_type": "stream",
     "text": [
      "PCA ---- DONE.\n",
      "Cell Proportion PCs used: 11\n"
     ]
    }
   ],
   "source": [
    "# Read in a cell proportion matrix. I did this using CIBERSORT, which figures out the proportions of cells from a gene expression matrix by using specific cell type specific genes. \n",
    "deconv_res <- as.data.frame(read_rds(\"../create_tr_te/deconv_res.rds\")$icu$cibersort)\n",
    "\n",
    "first_five(deconv_res)\n",
    "\n",
    "ICA_mod_eigen_clin <- lm_clin_eig(\n",
    "    ICA_eig = ICA_mod_eigen, \n",
    "    meta = meta, \n",
    "    vars_of_int = c(\"mortality\"),\n",
    "    nuisance_vars = c(\"age\", \"gender\"),\n",
    "    deconv = deconv_res,\n",
    "    incl_cell_props = TRUE\n",
    ") "
   ]
  },
  {
   "cell_type": "markdown",
   "metadata": {},
   "source": [
    "### Plot"
   ]
  },
  {
   "cell_type": "code",
   "execution_count": 14,
   "metadata": {},
   "outputs": [],
   "source": [
    "# Get all hallmarks associated with a module in one data frame. \n",
    "ICA_mods_msigdb_df <- ICA_mods_filt_msigdb_enr %>%\n",
    "  map(~keep(.x, names(.) %in% c(\"MSigDB_Hallmark_2020\"))) %>%\n",
    "  map(~bind_rows(.x, .id = \"database\")) %>%\n",
    "  bind_rows(.id = \"comp\") %>% \n",
    "  separate(Overlap,into = c(\"M\", \"N\")) %>%\n",
    "  mutate(Ratio = as.numeric(M)/as.numeric(N)*100 ) \n",
    "\n",
    "# Lets extract the top 2 hallmarks for each module\n",
    "ICA_mods_msigdb_df_filt  <- ICA_mods_msigdb_df %>%\n",
    "  group_by(comp) %>%\n",
    "  top_n(2, Ratio) %>%\n",
    "  ungroup() %>% \n",
    "  dplyr::select(one_of(\"comp\", \"Term\", \"Ratio\")) \n",
    "\n",
    "ICA_mods_msigdb_df_filt_pivot  <- ICA_mods_msigdb_df_filt %>% \n",
    "  pivot_wider(id_cols = \"Term\", names_from = \"comp\", values_from = \"Ratio\")  %>% \n",
    "  na2zero() %>%\n",
    "  mutate_at(vars(matches(\"Mod\")), ~ifelse(.x > 0, \"Enr. Hallmark\", \"Not Enr.\" ) )\n"
   ]
  },
  {
   "cell_type": "code",
   "execution_count": 15,
   "metadata": {},
   "outputs": [
    {
     "data": {
      "text/html": [
       "TRUE"
      ],
      "text/latex": [
       "TRUE"
      ],
      "text/markdown": [
       "TRUE"
      ],
      "text/plain": [
       "[1] TRUE"
      ]
     },
     "metadata": {},
     "output_type": "display_data"
    }
   ],
   "source": [
    "# Get the clinical association between each module and an outcome   \n",
    "ICA_mod_eigen_clin_df <- ICA_mod_eigen_clin$res %>%\n",
    "  map(~bind_rows(.x, .id = \"comp\")) %>%\n",
    "  bind_rows(.id = \"variable\")  %>% \n",
    "  filter(str_detect(term, \"mortality\" ))  %>% \n",
    "  mutate(adj_p_value = p.adjust(p.value, method = \"BH\")) %>% \n",
    "  mutate(p_val_bin = case_when(\n",
    "    adj_p_value >0.05 ~ \"P>0.05\", \n",
    "    adj_p_value >0.01 ~ \"P>0.01\",\n",
    "    adj_p_value >0.001 ~ \"P>0.001\",\n",
    "    adj_p_value >0.0001 ~ \"P>0.0001\", \n",
    "    TRUE ~ \"P<0.0001\")\n",
    "    ) %>% \n",
    "  mutate(log10_p.value = -1*log10(p.value)) %>% \n",
    "  dplyr::select(one_of(\"variable\", \"comp\", \"log10_p.value\", \"p_val_bin\", \"p.value\")) %>% \n",
    "  pivot_wider(id_cols = \"comp\",names_from = \"variable\", values_from = \"p_val_bin\") %>% \n",
    "  filter(comp %in% colnames(ICA_mods_msigdb_df_filt_pivot)[-c(1)] )  %>% \n",
    "  arrange(match(comp, colnames(ICA_mods_msigdb_df_filt_pivot)[-c(1)] ))\n",
    "\n",
    "all(colnames(ICA_mods_msigdb_df_filt_pivot)[-c(1)] == ICA_mod_eigen_clin_df$comp)"
   ]
  },
  {
   "cell_type": "code",
   "execution_count": 16,
   "metadata": {},
   "outputs": [
    {
     "name": "stderr",
     "output_type": "stream",
     "text": [
      "Loading required package: grid\n",
      "\n",
      "========================================\n",
      "ComplexHeatmap version 2.5.3\n",
      "Bioconductor page: http://bioconductor.org/packages/ComplexHeatmap/\n",
      "Github page: https://github.com/jokergoo/ComplexHeatmap\n",
      "Documentation: http://jokergoo.github.io/ComplexHeatmap-reference\n",
      "\n",
      "If you use it in published research, please cite:\n",
      "Gu, Z. Complex heatmaps reveal patterns and correlations in multidimensional \n",
      "  genomic data. Bioinformatics 2016.\n",
      "\n",
      "This message can be suppressed by:\n",
      "  suppressPackageStartupMessages(library(ComplexHeatmap))\n",
      "========================================\n",
      "\n",
      "\n"
     ]
    },
    {
     "data": {
      "text/html": [
       "<strong>png:</strong> 2"
      ],
      "text/latex": [
       "\\textbf{png:} 2"
      ],
      "text/markdown": [
       "**png:** 2"
      ],
      "text/plain": [
       "png \n",
       "  2 "
      ]
     },
     "metadata": {},
     "output_type": "display_data"
    }
   ],
   "source": [
    "#### Start making the heatmap\n",
    "library(ComplexHeatmap)\n",
    "col_fun = structure(c( \"gray95\", \"#330033\"), names = c( \"Not Enr.\", \"Enr. Hallmark\"))\n",
    "col_assoc = c(\"P>0.05\" = \"grey60\", \n",
    "              \"P>0.01\" = \"darkgoldenrod1\",\n",
    "              \"P>0.001\"= \"darkmagenta\",\n",
    "              \"P>0.0001\"= \"mediumblue\",\n",
    "              \"P<0.0001\"= \"midnightblue\"\n",
    "              ) \n",
    "column_ha <- HeatmapAnnotation(\n",
    "  \"Eigenmod/Mortality Assoc.\" = ICA_mod_eigen_clin_df$mortality,\n",
    "  col = list(\n",
    "    \"Eigenmod/Mortality Assoc.\" = col_assoc),\n",
    "  annotation_legend_param = list(\n",
    "    \"Eigenmod/Mortality Assoc.\" = list(\n",
    "      title = \"Eigenmod/\\nEndpoint Assoc. \\n-log10(AdjPValue)\")\n",
    "  ),\n",
    "  border = TRUE,\n",
    "  simple_anno_size = unit(1, \"cm\"), \n",
    "  gap = unit(1, 'mm'),\n",
    "  show_legend = c(TRUE, TRUE)\n",
    "  )\n",
    "\n",
    "htmap <- ICA_mods_msigdb_df_filt_pivot %>% \n",
    "  column_to_rownames(var = \"Term\") %>% \n",
    "  as.matrix() %>% \n",
    "  Heatmap(\n",
    "    name = \"\\nRatio\",\n",
    "    #column_split = ICA_mod_expr_dir$Direction,\n",
    "    cluster_rows = FALSE,\n",
    "    cluster_columns = FALSE,\n",
    "    top_annotation = column_ha,\n",
    "    col = col_fun,\n",
    "    border = TRUE\n",
    "    )\n",
    "\n",
    "png(\"./mod_plot.png\", width = 800, height = 400)\n",
    "print(htmap)\n",
    "dev.off()"
   ]
  },
  {
   "cell_type": "markdown",
   "metadata": {},
   "source": [
    "OK, here is the output! Modules are numbered Mod001 to Mod056). The over-represented MSigDB hallmarks for each module are indicated in purple. For the most part each module was associated with a unique set of hallmarks. The top bar represents the association between the eigenmodule (PC1 of the module gene expression matrix) and patient mortality, which was assessed using multiple linear regression (i.e., the P value of the estimated mortality variable coefficient).\n",
    "\n",
    "I have done follow up analysis on these modules, specifically determining whether the modules were predictive of mortality in other cohorts. Module 007 (IL2/STAT5 signaling), for example, was predictive in 4/5 cohorts assessed. This was interesting because IL-2/STAT5 signalling is a well-characterized regulator of CD4+ T cell gene programs with diverse functions (e.g., promote B cell activation, clear intra- and extra-cellular pathogens, and suppress pro-inflammatory responses) (Jones et al. 2020). I currently drafting a manucript with these results. \n",
    "\n",
    "<img src=\"mod_plot.png\" />\n",
    "\n",
    "\n",
    "\n",
    "\n"
   ]
  }
 ],
 "metadata": {
  "celltoolbar": "Raw Cell Format",
  "kernelspec": {
   "display_name": "R",
   "language": "R",
   "name": "ir"
  },
  "language_info": {
   "codemirror_mode": "r",
   "file_extension": ".r",
   "mimetype": "text/x-r-source",
   "name": "R",
   "pygments_lexer": "r",
   "version": "3.5.1"
  }
 },
 "nbformat": 4,
 "nbformat_minor": 2
}
